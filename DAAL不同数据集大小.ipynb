{
 "cells": [
  {
   "cell_type": "code",
   "execution_count": 1,
   "metadata": {},
   "outputs": [],
   "source": [
    "import daal4py as d4p\n",
    "import os,sys,time\n",
    "import numpy as np"
   ]
  },
  {
   "cell_type": "code",
   "execution_count": 2,
   "metadata": {},
   "outputs": [
    {
     "name": "stderr",
     "output_type": "stream",
     "text": [
      "/opt/anaconda3/envs/daal/lib/python3.7/site-packages/ipykernel_launcher.py:9: DeprecationWarning: time.clock has been deprecated in Python 3.3 and will be removed from Python 3.8: use time.perf_counter or time.process_time instead\n",
      "  if __name__ == '__main__':\n",
      "/opt/anaconda3/envs/daal/lib/python3.7/site-packages/ipykernel_launcher.py:16: DeprecationWarning: time.clock has been deprecated in Python 3.3 and will be removed from Python 3.8: use time.perf_counter or time.process_time instead\n",
      "  app.launch_new_instance()\n"
     ]
    },
    {
     "name": "stdout",
     "output_type": "stream",
     "text": [
      "time 0.0008930000000000327\n",
      "time 0.009050000000000002\n",
      "time 0.9444090000000003\n"
     ]
    }
   ],
   "source": [
    "from sklearn.datasets import make_classification\n",
    "from sklearn.model_selection import train_test_split\n",
    "for i in range(1, 4):\n",
    "    X, y = make_classification(n_samples=100**i, n_features=2, n_informative=2, n_redundant=0, random_state=0, shuffle=False)\n",
    "    X_train, X_test, y_train, y_test = train_test_split(X, y, test_size=0.8)\n",
    "    \n",
    "    y_train = np.expand_dims(y_train,axis=1)\n",
    "    \n",
    "    start = time.clock()\n",
    "    train_algo = d4p.kdtree_knn_classification_training()\n",
    "    weights = np.ones((X_train.shape[0], 1))\n",
    "    train_result = train_algo.compute(X_train, y_train, weights)\n",
    "    predict_algo = d4p.kdtree_knn_classification_prediction()\n",
    "    predict_result = predict_algo.compute(X_test, train_result.model)\n",
    "    \n",
    "    end=time.clock() #结束计时\n",
    "    print(\"time\", end-start)"
   ]
  },
  {
   "cell_type": "code",
   "execution_count": null,
   "metadata": {},
   "outputs": [],
   "source": []
  },
  {
   "cell_type": "code",
   "execution_count": null,
   "metadata": {},
   "outputs": [],
   "source": []
  }
 ],
 "metadata": {
  "kernelspec": {
   "display_name": "Python 3",
   "language": "python",
   "name": "python3"
  },
  "language_info": {
   "codemirror_mode": {
    "name": "ipython",
    "version": 3
   },
   "file_extension": ".py",
   "mimetype": "text/x-python",
   "name": "python",
   "nbconvert_exporter": "python",
   "pygments_lexer": "ipython3",
   "version": "3.7.7"
  }
 },
 "nbformat": 4,
 "nbformat_minor": 4
}
