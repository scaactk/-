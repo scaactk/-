{
 "cells": [
  {
   "cell_type": "code",
   "execution_count": 11,
   "metadata": {
    "colab": {},
    "colab_type": "code",
    "id": "UHBodpRdrsSr"
   },
   "outputs": [],
   "source": [
    "import os,sys,time\n",
    "import numpy as np\n",
    "from sklearn.metrics import accuracy_score\n",
    "from sklearn.metrics import f1_score\n",
    "from sklearn.metrics import recall_score\n",
    "from sklearn.metrics import precision_score\n",
    "from sklearn.metrics import confusion_matrix\n",
    "from sklearn.metrics import f1_score\n",
    "from sklearn.metrics import mean_absolute_error\n",
    "from sklearn.metrics import mean_squared_error\n",
    "\n",
    "from sklearn import datasets\n",
    "from sklearn.model_selection import train_test_split"
   ]
  },
  {
   "cell_type": "code",
   "execution_count": 2,
   "metadata": {
    "colab": {
     "base_uri": "https://localhost:8080/",
     "height": 175
    },
    "colab_type": "code",
    "id": "nk_LeLda0Oug",
    "outputId": "b858c53f-5d08-41be-fef5-507e75a2165d"
   },
   "outputs": [
    {
     "name": "stderr",
     "output_type": "stream",
     "text": [
      "/opt/anaconda3/envs/daal/lib/python3.7/site-packages/ipykernel_launcher.py:12: DeprecationWarning: time.clock has been deprecated in Python 3.3 and will be removed from Python 3.8: use time.perf_counter or time.process_time instead\n",
      "  if sys.path[0] == '':\n"
     ]
    },
    {
     "name": "stdout",
     "output_type": "stream",
     "text": [
      "time 0.38196300000000005\n",
      "accuracy_score 0.9655\n",
      "precision_score 0.9650319748408597\n",
      "recall_score 0.9655\n",
      "f1_score 0.9655\n",
      "confusion_matrix\n",
      " [[707   0   0   0  45]\n",
      " [  0 830   9   6   0]\n",
      " [  0   8 810   2   0]\n",
      " [  0   7   1 760   0]\n",
      " [ 60   0   0   0 755]]\n"
     ]
    },
    {
     "name": "stderr",
     "output_type": "stream",
     "text": [
      "/opt/anaconda3/envs/daal/lib/python3.7/site-packages/ipykernel_launcher.py:28: DataConversionWarning: A column-vector y was passed when a 1d array was expected. Please change the shape of y to (n_samples, ), for example using ravel().\n",
      "/opt/anaconda3/envs/daal/lib/python3.7/site-packages/ipykernel_launcher.py:31: DeprecationWarning: time.clock has been deprecated in Python 3.3 and will be removed from Python 3.8: use time.perf_counter or time.process_time instead\n"
     ]
    },
    {
     "data": {
      "text/plain": [
       "'\\nmicro算法是指把所有的类放在一起算，具体到precision，就是把所有类的TP加和，再除以所有类的TP和FN的加和。\\n因此micro方法下的precision和recall都等于accuracy\\n'"
      ]
     },
     "execution_count": 2,
     "metadata": {},
     "output_type": "execute_result"
    }
   ],
   "source": [
    "# KNN\n",
    "from sklearn.neighbors import KNeighborsClassifier\n",
    "\n",
    "# let's try to use pandas' fast csv reader\n",
    "try:\n",
    "    import pandas\n",
    "    readcsv = lambda f, c, t=np.float64: pandas.read_csv(f, usecols=c, delimiter=',', header=None, dtype=t)\n",
    "except:\n",
    "    # fall back to numpy loadtxt\n",
    "    readcsv = lambda f, c, t=np.float64: np.loadtxt(f, usecols=c, delimiter=',', ndmin=2)\n",
    "\n",
    "start = time.clock() # 开始计时\n",
    "\n",
    "# Input data set parameters\n",
    "train_file = os.path.join('data', 'k_nearest_neighbors_train.csv')\n",
    "predict_file  = os.path.join('data', 'k_nearest_neighbors_test.csv')\n",
    "\n",
    "# Read data. Let's use 5 features per observation\n",
    "nFeatures = 5\n",
    "nClasses = 5\n",
    "train_data   = readcsv(train_file, range(nFeatures))\n",
    "train_labels = readcsv(train_file, range(nFeatures, nFeatures+1))\n",
    "predict_data = readcsv(predict_file, range(nFeatures))\n",
    "predict_labels = readcsv(predict_file, range(nFeatures, nFeatures+1))\n",
    " \n",
    "knn = KNeighborsClassifier()#得到分类器\n",
    "\n",
    "knn.fit(train_data, train_labels)#训练模型\n",
    "\n",
    "predictedLabel = knn.predict(predict_data) # 进行预测\n",
    "end=time.clock() #结束计时\n",
    "print(\"time\", end-start)\n",
    "\n",
    "print(\"accuracy_score\", accuracy_score(predict_labels, predictedLabel))\n",
    "print(\"precision_score\", precision_score(predict_labels, predictedLabel, average=\"macro\"))\n",
    "print(\"recall_score\", recall_score(predict_labels, predictedLabel, average=\"micro\"))\n",
    "print(\"f1_score\", f1_score(predict_labels, predictedLabel, average=\"micro\"))\n",
    "print(\"confusion_matrix\\n\", confusion_matrix(predict_labels, predictedLabel))\n",
    "\"\"\"\n",
    "micro算法是指把所有的类放在一起算，具体到precision，就是把所有类的TP加和，再除以所有类的TP和FN的加和。\n",
    "因此micro方法下的precision和recall都等于accuracy\n",
    "\"\"\""
   ]
  },
  {
   "cell_type": "code",
   "execution_count": 3,
   "metadata": {
    "colab": {
     "base_uri": "https://localhost:8080/",
     "height": 158
    },
    "colab_type": "code",
    "id": "W6dC9hd1_qNy",
    "outputId": "9b422587-ed07-4a55-e164-9acfd9a8e5ea"
   },
   "outputs": [
    {
     "name": "stdout",
     "output_type": "stream",
     "text": [
      "time 0.1395949999999999\n",
      "accuracy_score 0.986\n",
      "precision_score 0.9864077669902913\n",
      "recall_score 0.9859719438877755\n",
      "f1_score 0.985996415082261\n",
      "confusion_matrix\n",
      " [[1002    0]\n",
      " [  28  970]]\n"
     ]
    },
    {
     "name": "stderr",
     "output_type": "stream",
     "text": [
      "/opt/anaconda3/envs/daal/lib/python3.7/site-packages/ipykernel_launcher.py:12: DeprecationWarning: time.clock has been deprecated in Python 3.3 and will be removed from Python 3.8: use time.perf_counter or time.process_time instead\n",
      "  if sys.path[0] == '':\n",
      "/opt/anaconda3/envs/daal/lib/python3.7/site-packages/sklearn/utils/validation.py:73: DataConversionWarning: A column-vector y was passed when a 1d array was expected. Please change the shape of y to (n_samples, ), for example using ravel().\n",
      "  return f(**kwargs)\n",
      "/opt/anaconda3/envs/daal/lib/python3.7/site-packages/ipykernel_launcher.py:26: DeprecationWarning: time.clock has been deprecated in Python 3.3 and will be removed from Python 3.8: use time.perf_counter or time.process_time instead\n"
     ]
    }
   ],
   "source": [
    "# 支持向量机\n",
    "from sklearn.svm import SVC\n",
    "\n",
    "# let's try to use pandas' fast csv reader\n",
    "try:\n",
    "    import pandas\n",
    "    readcsv = lambda f, c, t=np.float64: pandas.read_csv(f, usecols=c, delimiter=',', header=None, dtype=t)\n",
    "except:\n",
    "    # fall back to numpy loadtxt\n",
    "    readcsv = lambda f, c, t=np.float64: np.loadtxt(f, usecols=c, delimiter=',', ndmin=2)\n",
    "\n",
    "start = time.clock() # 开始计时\n",
    "# input data file\n",
    "infile = \"./data/svm_two_class_train_dense.csv\"\n",
    "testfile = \"./data/svm_two_class_test_dense.csv\"\n",
    "\n",
    "data   = readcsv(infile, range(20))\n",
    "labels = readcsv(infile, range(20,21))\n",
    "pdata = readcsv(testfile, range(20))\n",
    "plabels = readcsv(testfile, range(20,21))\n",
    "\n",
    "clf = SVC()\n",
    "clf.fit(data, labels)\n",
    "predictedLabel = clf.predict(pdata)\n",
    "\n",
    "end=time.clock() #结束计时\n",
    "print(\"time\", end-start)\n",
    "\n",
    "print(\"accuracy_score\", accuracy_score(plabels, predictedLabel))\n",
    "print(\"precision_score\", precision_score(plabels, predictedLabel, average=\"macro\"))\n",
    "print(\"recall_score\", recall_score(plabels, predictedLabel, average=\"macro\"))\n",
    "print(\"f1_score\", f1_score(plabels, predictedLabel, average=\"macro\"))\n",
    "print(\"confusion_matrix\\n\", confusion_matrix(plabels, predictedLabel))\n",
    "\n"
   ]
  },
  {
   "cell_type": "code",
   "execution_count": 4,
   "metadata": {
    "colab": {
     "base_uri": "https://localhost:8080/",
     "height": 175
    },
    "colab_type": "code",
    "id": "nb1pVFPl3LN4",
    "outputId": "81a00f41-d789-4e13-f288-a6366f27c0ea"
   },
   "outputs": [
    {
     "name": "stderr",
     "output_type": "stream",
     "text": [
      "/opt/anaconda3/envs/daal/lib/python3.7/site-packages/ipykernel_launcher.py:12: DeprecationWarning: time.clock has been deprecated in Python 3.3 and will be removed from Python 3.8: use time.perf_counter or time.process_time instead\n",
      "  if sys.path[0] == '':\n"
     ]
    },
    {
     "name": "stdout",
     "output_type": "stream",
     "text": [
      "accuracy_score 1.0\n",
      "precision_score 1.0\n",
      "recall_score 1.0\n",
      "f1_score 1.0\n",
      "confusion_matrix\n",
      " [[ 83   0   0   0   0   0   0   0   0   0   0   0   0   0   0   0   0   0\n",
      "    0   0]\n",
      " [  0  90   0   0   0   0   0   0   0   0   0   0   0   0   0   0   0   0\n",
      "    0   0]\n",
      " [  0   0 104   0   0   0   0   0   0   0   0   0   0   0   0   0   0   0\n",
      "    0   0]\n",
      " [  0   0   0  91   0   0   0   0   0   0   0   0   0   0   0   0   0   0\n",
      "    0   0]\n",
      " [  0   0   0   0  95   0   0   0   0   0   0   0   0   0   0   0   0   0\n",
      "    0   0]\n",
      " [  0   0   0   0   0  93   0   0   0   0   0   0   0   0   0   0   0   0\n",
      "    0   0]\n",
      " [  0   0   0   0   0   0  97   0   0   0   0   0   0   0   0   0   0   0\n",
      "    0   0]\n",
      " [  0   0   0   0   0   0   0 106   0   0   0   0   0   0   0   0   0   0\n",
      "    0   0]\n",
      " [  0   0   0   0   0   0   0   0  92   0   0   0   0   0   0   0   0   0\n",
      "    0   0]\n",
      " [  0   0   0   0   0   0   0   0   0 105   0   0   0   0   0   0   0   0\n",
      "    0   0]\n",
      " [  0   0   0   0   0   0   0   0   0   0 107   0   0   0   0   0   0   0\n",
      "    0   0]\n",
      " [  0   0   0   0   0   0   0   0   0   0   0  98   0   0   0   0   0   0\n",
      "    0   0]\n",
      " [  0   0   0   0   0   0   0   0   0   0   0   0 115   0   0   0   0   0\n",
      "    0   0]\n",
      " [  0   0   0   0   0   0   0   0   0   0   0   0   0 103   0   0   0   0\n",
      "    0   0]\n",
      " [  0   0   0   0   0   0   0   0   0   0   0   0   0   0 109   0   0   0\n",
      "    0   0]\n",
      " [  0   0   0   0   0   0   0   0   0   0   0   0   0   0   0 109   0   0\n",
      "    0   0]\n",
      " [  0   0   0   0   0   0   0   0   0   0   0   0   0   0   0   0 106   0\n",
      "    0   0]\n",
      " [  0   0   0   0   0   0   0   0   0   0   0   0   0   0   0   0   0  97\n",
      "    0   0]\n",
      " [  0   0   0   0   0   0   0   0   0   0   0   0   0   0   0   0   0   0\n",
      "  101   0]\n",
      " [  0   0   0   0   0   0   0   0   0   0   0   0   0   0   0   0   0   0\n",
      "    0  99]]\n",
      "time 0.27543399999999973\n"
     ]
    },
    {
     "name": "stderr",
     "output_type": "stream",
     "text": [
      "/opt/anaconda3/envs/daal/lib/python3.7/site-packages/sklearn/utils/validation.py:73: DataConversionWarning: A column-vector y was passed when a 1d array was expected. Please change the shape of y to (n_samples, ), for example using ravel().\n",
      "  return f(**kwargs)\n",
      "/opt/anaconda3/envs/daal/lib/python3.7/site-packages/ipykernel_launcher.py:32: DeprecationWarning: time.clock has been deprecated in Python 3.3 and will be removed from Python 3.8: use time.perf_counter or time.process_time instead\n"
     ]
    }
   ],
   "source": [
    "# 朴素贝叶斯\n",
    "from sklearn.naive_bayes import GaussianNB\n",
    "\n",
    "# let's try to use pandas' fast csv reader\n",
    "try:\n",
    "    import pandas\n",
    "    read_csv = lambda f, c, t=np.float64: pandas.read_csv(f, usecols=c, delimiter=',', header=None, dtype=t)\n",
    "except:\n",
    "    # fall back to numpy loadtxt\n",
    "    read_csv = lambda f, c, t=np.float64: np.loadtxt(f, usecols=c, delimiter=',', ndmin=2)\n",
    "\n",
    "start = time.clock() # 开始计时\n",
    "\n",
    "# input data file\n",
    "infile = \"./data/naivebayes_train_dense.csv\"\n",
    "testfile = \"./data/naivebayes_test_dense.csv\"\n",
    "data   = readcsv(infile, range(20))\n",
    "labels = readcsv(infile, range(20,21))\n",
    "pdata = readcsv(testfile, range(20))\n",
    "plabels = readcsv(testfile, range(20,21))\n",
    "\n",
    "gnb = GaussianNB()\n",
    "predictedLabel = gnb.fit(data, labels).predict(pdata)\n",
    "\n",
    "end=time.clock() #结束计时\n",
    "print(\"time\", end-start)\n",
    "\n",
    "print(\"accuracy_score\", accuracy_score(plabels, predictedLabel))\n",
    "print(\"precision_score\", precision_score(plabels, predictedLabel, average=\"macro\"))\n",
    "print(\"recall_score\", recall_score(plabels, predictedLabel, average=\"macro\"))\n",
    "print(\"f1_score\", f1_score(plabels, predictedLabel, average=\"macro\"))\n",
    "print(\"confusion_matrix\\n\", confusion_matrix(plabels, predictedLabel))\n",
    "\n"
   ]
  },
  {
   "cell_type": "code",
   "execution_count": 5,
   "metadata": {
    "colab": {
     "base_uri": "https://localhost:8080/",
     "height": 158
    },
    "colab_type": "code",
    "id": "3heFd9I83Nq9",
    "outputId": "b2696898-4254-43ff-db32-d17d39af9ac2"
   },
   "outputs": [
    {
     "name": "stderr",
     "output_type": "stream",
     "text": [
      "/opt/anaconda3/envs/daal/lib/python3.7/site-packages/ipykernel_launcher.py:14: DeprecationWarning: time.clock has been deprecated in Python 3.3 and will be removed from Python 3.8: use time.perf_counter or time.process_time instead\n",
      "  \n"
     ]
    },
    {
     "name": "stdout",
     "output_type": "stream",
     "text": [
      "time 0.23611800000000027\n",
      "accuracy_score 1.0\n",
      "precision_score 1.0\n",
      "recall_score 1.0\n",
      "f1_score 1.0\n",
      "confusion_matrix\n",
      " [[1599    0]\n",
      " [   0  401]]\n"
     ]
    },
    {
     "name": "stderr",
     "output_type": "stream",
     "text": [
      "/opt/anaconda3/envs/daal/lib/python3.7/site-packages/sklearn/utils/validation.py:73: DataConversionWarning: A column-vector y was passed when a 1d array was expected. Please change the shape of y to (n_samples, ), for example using ravel().\n",
      "  return f(**kwargs)\n",
      "/opt/anaconda3/envs/daal/lib/python3.7/site-packages/ipykernel_launcher.py:31: DeprecationWarning: time.clock has been deprecated in Python 3.3 and will be removed from Python 3.8: use time.perf_counter or time.process_time instead\n"
     ]
    }
   ],
   "source": [
    "# adaboost\n",
    "from sklearn.ensemble import AdaBoostClassifier\n",
    "from sklearn.tree import DecisionTreeClassifier\n",
    "from sklearn.datasets import make_gaussian_quantiles\n",
    "\n",
    "# let's try to use pandas' fast csv reader\n",
    "try:\n",
    "    import pandas\n",
    "    read_csv = lambda f, c, t=np.float64: pandas.read_csv(f, usecols=c, delimiter=',', header=None, dtype=t)\n",
    "except:\n",
    "    # fall back to numpy loadtxt\n",
    "    read_csv = lambda f, c, t=np.float64: np.loadtxt(f, usecols=c, delimiter=',', ndmin=2)\n",
    "\n",
    "start = time.clock() # 开始计时\n",
    "\n",
    "infile = \"./data/adaboost_train.csv\"\n",
    "testfile = \"./data/adaboost_test.csv\"\n",
    "\n",
    "# Read data. Let's have 20 independent, and 1 dependent variable (for each observation)\n",
    "indep_data = readcsv(infile, range(20))\n",
    "dep_data   = readcsv(infile, range(20,21))\n",
    "pdata = readcsv(testfile, range(20))\n",
    "predict_labels = np.loadtxt(testfile, usecols=range(20,21), delimiter=',', ndmin=2)\n",
    "\n",
    "bdt = AdaBoostClassifier(DecisionTreeClassifier(max_depth=2, min_samples_split=20, min_samples_leaf=5),\n",
    "                         algorithm=\"SAMME\",\n",
    "                         n_estimators=200, learning_rate=0.8)\n",
    "bdt.fit(indep_data, dep_data)\n",
    "predictedLabel = bdt.predict(pdata)\n",
    "\n",
    "end=time.clock() #结束计时\n",
    "print(\"time\", end-start)\n",
    "\n",
    "print(\"accuracy_score\", accuracy_score(predict_labels, predictedLabel))\n",
    "print(\"precision_score\", precision_score(predict_labels, predictedLabel))\n",
    "print(\"recall_score\", recall_score(predict_labels, predictedLabel))\n",
    "print(\"f1_score\", f1_score(predict_labels, predictedLabel))\n",
    "print(\"confusion_matrix\\n\", confusion_matrix(predict_labels, predictedLabel))\n",
    "\n",
    "\n"
   ]
  },
  {
   "cell_type": "code",
   "execution_count": 9,
   "metadata": {
    "colab": {
     "base_uri": "https://localhost:8080/",
     "height": 158
    },
    "colab_type": "code",
    "id": "i795motp3QUH",
    "outputId": "1d1f03fb-e9aa-481a-8399-a133e15547f5"
   },
   "outputs": [
    {
     "name": "stderr",
     "output_type": "stream",
     "text": [
      "/opt/anaconda3/envs/daal/lib/python3.7/site-packages/ipykernel_launcher.py:14: DeprecationWarning: time.clock has been deprecated in Python 3.3 and will be removed from Python 3.8: use time.perf_counter or time.process_time instead\n",
      "  \n",
      "/opt/anaconda3/envs/daal/lib/python3.7/site-packages/ipykernel_launcher.py:26: DataConversionWarning: A column-vector y was passed when a 1d array was expected. Please change the shape of y to (n_samples,), for example using ravel().\n"
     ]
    },
    {
     "name": "stdout",
     "output_type": "stream",
     "text": [
      "time 3.964141999999999\n",
      "accuracy_score 0.363\n",
      "precision_score 0.17200956937799045\n",
      "recall_score 0.24420454545454545\n",
      "f1_score 0.16618381618381614\n",
      "confusion_matrix\n",
      " [[  0   0 163   0   0]\n",
      " [  0   0 160   0   0]\n",
      " [  0   0 318   2   0]\n",
      " [  0   0 153  45   0]\n",
      " [  0   0 118  41   0]]\n"
     ]
    },
    {
     "name": "stderr",
     "output_type": "stream",
     "text": [
      "/opt/anaconda3/envs/daal/lib/python3.7/site-packages/ipykernel_launcher.py:29: DeprecationWarning: time.clock has been deprecated in Python 3.3 and will be removed from Python 3.8: use time.perf_counter or time.process_time instead\n",
      "/opt/anaconda3/envs/daal/lib/python3.7/site-packages/sklearn/metrics/_classification.py:1221: UndefinedMetricWarning: Precision is ill-defined and being set to 0.0 in labels with no predicted samples. Use `zero_division` parameter to control this behavior.\n",
      "  _warn_prf(average, modifier, msg_start, len(result))\n"
     ]
    }
   ],
   "source": [
    "# 随机森林\n",
    "from sklearn.ensemble import RandomForestClassifier\n",
    "from sklearn.datasets import make_classification\n",
    "# let's try to use pandas' fast csv reader\n",
    "try:\n",
    "    import pandas\n",
    "    read_csv = lambda f, c, t=np.float64: pandas.read_csv(f, usecols=c, delimiter=',', header=None, dtype=t)\n",
    "except:\n",
    "    # fall back to numpy loadtxt\n",
    "    read_csv = lambda f, c, t=np.float64: np.loadtxt(f, usecols=c, delimiter=',', ndmin=2, dtype=t)\n",
    "\n",
    "# Get Intel(R) Data Analytics Acceleration Library (Intel(R) DAAL) version\n",
    "\n",
    "start = time.clock() # 开始计时\n",
    "\n",
    "# input data file\n",
    "infile = \"./data/df_classification_train.csv\"\n",
    "testfile = \"./data/df_classification_test.csv\"\n",
    "# Read data. Let's use 3 features per observation\n",
    "data   = readcsv(infile, range(3), t=np.float32)\n",
    "labels = readcsv(infile, range(3,4), t=np.float32)\n",
    "pdata = readcsv(testfile, range(3), t=np.float32)\n",
    "plabels = readcsv(testfile, range(3,4), t=np.float32)\n",
    "\n",
    "clf = RandomForestClassifier(max_depth=3, random_state=0)\n",
    "clf.fit(data, labels)\n",
    "predictedLabel = clf.predict(pdata)\n",
    "\n",
    "end=time.clock() #结束计时\n",
    "print(\"time\", end-start)\n",
    "\n",
    "print(\"accuracy_score\", accuracy_score(plabels, predictedLabel))\n",
    "print(\"precision_score\", precision_score(plabels, predictedLabel, average=\"macro\"))\n",
    "print(\"recall_score\", recall_score(plabels, predictedLabel, average=\"macro\"))\n",
    "print(\"f1_score\", f1_score(plabels, predictedLabel, average=\"macro\"))\n",
    "print(\"confusion_matrix\\n\", confusion_matrix(plabels, predictedLabel))\n",
    "\n"
   ]
  },
  {
   "cell_type": "code",
   "execution_count": 0,
   "metadata": {
    "colab": {
     "base_uri": "https://localhost:8080/",
     "height": 175
    },
    "colab_type": "code",
    "id": "cLq2Ed303S1p",
    "outputId": "31c895e1-3c7c-41d5-e60b-b568e8f1c713"
   },
   "outputs": [
    {
     "name": "stdout",
     "output_type": "stream",
     "text": [
      "accuracy_score 0.9666666666666667\n",
      "precision_score 0.9696969696969697\n",
      "recall_score 0.9666666666666667\n",
      "f1_score 0.9665831244778613\n",
      "confusion_matrix\n",
      " [[50  0  0]\n",
      " [ 0 45  5]\n",
      " [ 0  0 50]]\n",
      "time 0.025884999999988167\n"
     ]
    }
   ],
   "source": [
    "# EM算法\n",
    "from sklearn.mixture import GaussianMixture\n",
    "start = time.clock() # 开始计时\n",
    "\n",
    "#鸢尾花数据集\n",
    "X, y = datasets.load_iris(return_X_y=True)\n",
    "#X_train, X_test, y_train, y_test = train_test_split(X, y, stratify=y, test_size=0.7, random_state=42) # 划分数据集\n",
    "\n",
    "gmm = GaussianMixture(n_components=3)\n",
    "\n",
    "predictedLabel = gmm.fit_predict(X)\n",
    "end=time.clock() #结束计时\n",
    "print(\"time\", end-start)\n",
    "\n",
    "print(\"accuracy_score\", accuracy_score(y, predictedLabel))\n",
    "print(\"precision_score\", precision_score(y, predictedLabel, average=\"macro\"))\n",
    "print(\"recall_score\", recall_score(y, predictedLabel, average=\"macro\"))\n",
    "print(\"f1_score\", f1_score(y, predictedLabel, average=\"macro\"))\n",
    "print(\"confusion_matrix\\n\", confusion_matrix(y, predictedLabel))\n",
    "\n",
    "\n"
   ]
  },
  {
   "cell_type": "code",
   "execution_count": 15,
   "metadata": {},
   "outputs": [
    {
     "name": "stdout",
     "output_type": "stream",
     "text": [
      "time 0.050119000000002245\n",
      "MAE 2.7076377952755912\n",
      "MSE 14.467367716535431\n"
     ]
    },
    {
     "name": "stderr",
     "output_type": "stream",
     "text": [
      "/opt/anaconda3/envs/daal/lib/python3.7/site-packages/ipykernel_launcher.py:15: DeprecationWarning: time.clock has been deprecated in Python 3.3 and will be removed from Python 3.8: use time.perf_counter or time.process_time instead\n",
      "  from ipykernel import kernelapp as app\n",
      "/opt/anaconda3/envs/daal/lib/python3.7/site-packages/ipykernel_launcher.py:25: DataConversionWarning: A column-vector y was passed when a 1d array was expected. Please change the shape of y to (n_samples,), for example using ravel().\n",
      "/opt/anaconda3/envs/daal/lib/python3.7/site-packages/ipykernel_launcher.py:28: DeprecationWarning: time.clock has been deprecated in Python 3.3 and will be removed from Python 3.8: use time.perf_counter or time.process_time instead\n"
     ]
    }
   ],
   "source": [
    "#随机森林 回归\n",
    "\n",
    "from sklearn.ensemble import RandomForestRegressor\n",
    "from sklearn.datasets import make_regression\n",
    "\n",
    "# let's try to use pandas' fast csv reader\n",
    "try:\n",
    "    import pandas\n",
    "    read_csv = lambda f, c, t=np.float64: pandas.read_csv(f, usecols=c, delimiter=',', header=None, dtype=np.float32)\n",
    "except:\n",
    "    # fall back to numpy loadtxt\n",
    "    read_csv = lambda f, c, t=np.float64: np.loadtxt(f, usecols=c, delimiter=',', ndmin=2, dtype=np.float32)\n",
    "\n",
    "\n",
    "start = time.clock() # 开始计时\n",
    "infile = \"./data/df_regression_train.csv\"\n",
    "testfile = \"./data/df_regression_test.csv\"\n",
    "# Read data. Let's have 13 independent, and 1 dependent variables (for each observation)\n",
    "indep_data = readcsv(infile, range(13), t=np.float32)\n",
    "dep_data   = readcsv(infile, range(13,14), t=np.float32)\n",
    "pdata = readcsv(testfile, range(13), t=np.float32)\n",
    "ptdata = readcsv(testfile, range(13,14), t=np.float32)\n",
    "\n",
    "regr = RandomForestRegressor(n_estimators=100, random_state=0)\n",
    "regr.fit(indep_data, dep_data)\n",
    "predict_result = regr.predict(pdata)\n",
    "\n",
    "end=time.clock() #结束计时\n",
    "print(\"time\", end-start)\n",
    "\n",
    "print(\"MAE\", mean_absolute_error(ptdata, predict_result))\n",
    "print(\"MSE\", mean_squared_error(ptdata, predict_result))"
   ]
  },
  {
   "cell_type": "code",
   "execution_count": null,
   "metadata": {},
   "outputs": [],
   "source": []
  }
 ],
 "metadata": {
  "colab": {
   "collapsed_sections": [],
   "name": "不同库的性能比较.ipynb",
   "provenance": []
  },
  "kernelspec": {
   "display_name": "Python 3",
   "language": "python",
   "name": "python3"
  },
  "language_info": {
   "codemirror_mode": {
    "name": "ipython",
    "version": 3
   },
   "file_extension": ".py",
   "mimetype": "text/x-python",
   "name": "python",
   "nbconvert_exporter": "python",
   "pygments_lexer": "ipython3",
   "version": "3.7.7"
  }
 },
 "nbformat": 4,
 "nbformat_minor": 1
}
